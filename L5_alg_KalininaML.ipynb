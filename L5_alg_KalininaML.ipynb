{
  "nbformat": 4,
  "nbformat_minor": 0,
  "metadata": {
    "colab": {
      "name": "L5_alg_KalininaML",
      "provenance": [],
      "authorship_tag": "ABX9TyNAztn99bzqWxzirEjal5DO",
      "include_colab_link": true
    },
    "kernelspec": {
      "name": "python3",
      "display_name": "Python 3"
    },
    "language_info": {
      "name": "python"
    }
  },
  "cells": [
    {
      "cell_type": "markdown",
      "metadata": {
        "id": "view-in-github",
        "colab_type": "text"
      },
      "source": [
        "<a href=\"https://colab.research.google.com/github/MariaKalinina/Algorithms_interactive_GB/blob/master/L5_alg_KalininaML.ipynb\" target=\"_parent\"><img src=\"https://colab.research.google.com/assets/colab-badge.svg\" alt=\"Open In Colab\"/></a>"
      ]
    },
    {
      "cell_type": "markdown",
      "source": [
        "1. Пользователь вводит данные о количестве предприятий, их наименования и прибыль за четыре квартала для каждого предприятия. \n",
        "Программа должна определить среднюю прибыль (за год для всех предприятий) и отдельно вывести наименования предприятий, чья прибыль выше среднего и ниже среднего."
      ],
      "metadata": {
        "id": "ceKQJYOVdbTS"
      }
    },
    {
      "cell_type": "code",
      "execution_count": 8,
      "metadata": {
        "colab": {
          "base_uri": "https://localhost:8080/"
        },
        "id": "gZ1qcc7NqMth",
        "outputId": "96c1eb78-ccdd-4292-fc15-a191a93465be"
      },
      "outputs": [
        {
          "output_type": "stream",
          "name": "stdout",
          "text": [
            "Введите количество компаний: 3\n",
            "\n",
            "Введите название 1й компании: DDD\n",
            "Введите прибыль за 1й квартал: 12\n",
            "Введите прибыль за 2й квартал: 21\n",
            "Введите прибыль за 3й квартал: 12\n",
            "Введите прибыль за 4й квартал: 21\n",
            "\n",
            "Введите название 2й компании: 23\n",
            "Введите прибыль за 1й квартал: 32\n",
            "Введите прибыль за 2й квартал: 23\n",
            "Введите прибыль за 3й квартал: 32\n",
            "Введите прибыль за 4й квартал: 32\n",
            "\n",
            "Введите название 3й компании: FG\n",
            "Введите прибыль за 1й квартал: 356\n",
            "Введите прибыль за 2й квартал: 355\n",
            "Введите прибыль за 3й квартал: 356\n",
            "Введите прибыль за 4й квартал: 356\n",
            "Средняя прибыль для всех компаний составила: 536.0\n",
            "Прибыль выше среднего у 1 компаний:\n",
            "FG\n",
            "Прибыль ниже среднего у 2 компаний:\n",
            "DDD\n",
            "23\n"
          ]
        }
      ],
      "source": [
        "import collections\n",
        "\n",
        "while True:\n",
        "    try:\n",
        "        n = int(input('Введите количество компаний: '))\n",
        "    except ValueError:\n",
        "        print('Вы ввели недопустимое значение. Необходимо ввести целое число.')\n",
        "        continue\n",
        "    break\n",
        "\n",
        "companies = collections.defaultdict()\n",
        "prof_above = collections.deque()\n",
        "prof_under = collections.deque()\n",
        "profit_all = 0\n",
        "QUARTER = 4\n",
        "\n",
        "for i in range(n):\n",
        "    name = input(f'\\nВведите название {i+1}й компании: ')\n",
        "    profit = 0\n",
        "    q = 1\n",
        "    while q <= QUARTER:\n",
        "        try:\n",
        "            profit += float(input(f'Введите прибыль за {q}й квартал: '))\n",
        "        except ValueError:\n",
        "            print('Вы ввели недопустимое значение')\n",
        "            continue\n",
        "        q += 1\n",
        "    companies[name] = profit\n",
        "    profit_all += profit\n",
        "\n",
        "\n",
        "median_profit = profit_all / n\n",
        "for i, item in companies.items():\n",
        "    if item >= median_profit:\n",
        "        prof_above.append(i)\n",
        "    else:\n",
        "        prof_under.append(i)\n",
        "print(f'Средняя прибыль для всех компаний составила: {median_profit}')\n",
        "\n",
        "print(f'Прибыль выше среднего у {len(prof_above)} компаний:')\n",
        "for name in prof_above:\n",
        "    print(name)\n",
        "print(f'Прибыль ниже среднего у {len(prof_under)} компаний:')\n",
        "for name in prof_under:\n",
        "    print(name)"
      ]
    },
    {
      "cell_type": "markdown",
      "source": [
        "2. Написать программу сложения и умножения двух шестнадцатеричных чисел. При этом каждое число представляется как массив, элементы которого — цифры числа.\n",
        "Например, пользователь ввёл A2 и C4F. Нужно сохранить их как [‘A’, ‘2’] и [‘C’, ‘4’, ‘F’] соответственно. Сумма чисел из примера: [‘C’, ‘F’, ‘1’], произведение - [‘7’, ‘C’, ‘9’, ‘F’, ‘E’]."
      ],
      "metadata": {
        "id": "fjE8mOyXesdH"
      }
    },
    {
      "cell_type": "code",
      "source": [
        "from collections import deque\n",
        "\n",
        "\n",
        "def sum_hex(x, y):\n",
        "    HEX_NUM = {'0': 0, '1': 1, '2': 2, '3': 3, '4': 4, '5': 5, '6': 6, '7': 7, '8': 8, '9': 9,\n",
        "               'A': 10, 'B': 11, 'C': 12, 'D': 13, 'E': 14, 'F': 15,\n",
        "               0: '0', 1: '1', 2: '2', 3: '3', 4: '4', 5: '5', 6: '6', 7: '7', 8: '8', 9: '9',\n",
        "               10: 'A', 11: 'B', 12: 'C', 13: 'D', 14: 'E', 15: 'F'}\n",
        "    result = deque()\n",
        "    transfer = 0\n",
        "    if len(y) > len(x):\n",
        "        x, y = deque(y), deque(x)\n",
        "    else:\n",
        "        x, y = deque(x), deque(y)\n",
        "    while x:\n",
        "        if y:\n",
        "            res = HEX_NUM[x.pop()] + HEX_NUM[y.pop()] + transfer\n",
        "        else:\n",
        "            res = HEX_NUM[x.pop()] + transfer\n",
        "\n",
        "        transfer = 0\n",
        "        if res < 16:\n",
        "            result.appendleft(HEX_NUM[res])\n",
        "        else:\n",
        "            result.appendleft(HEX_NUM[res - 16])\n",
        "            transfer = 1\n",
        "    if transfer:\n",
        "        result.appendleft('1')\n",
        "    return list(result)\n",
        "\n",
        "\n",
        "def mult_hex(x, y):\n",
        "    HEX_NUM = {'0': 0, '1': 1, '2': 2, '3': 3, '4': 4, '5': 5, '6': 6, '7': 7, '8': 8, '9': 9,\n",
        "               'A': 10, 'B': 11, 'C': 12, 'D': 13, 'E': 14, 'F': 15,\n",
        "               0: '0', 1: '1', 2: '2', 3: '3', 4: '4', 5: '5', 6: '6', 7: '7', 8: '8', 9: '9',\n",
        "               10: 'A', 11: 'B', 12: 'C', 13: 'D', 14: 'E', 15: 'F'}\n",
        "    result = deque()\n",
        "    spam = deque([deque() for _ in range(len(y))])\n",
        "    x, y = x.copy(), deque(y)\n",
        "    for i in range(len(y)):\n",
        "        m = HEX_NUM[y.pop()]\n",
        "        for j in range(len(x) - 1, -1, -1):\n",
        "            spam[i].appendleft(m * HEX_NUM[x[j]])\n",
        "        for _ in range(i):\n",
        "            spam[i].append(0)\n",
        "    transfer = 0\n",
        "    for _ in range(len(spam[-1])):\n",
        "        res = transfer\n",
        "        for i in range(len(spam)):\n",
        "            if spam[i]:\n",
        "                res += spam[i].pop()\n",
        "        if res < 16:\n",
        "            result.appendleft(HEX_NUM[res])\n",
        "        else:\n",
        "            result.appendleft(HEX_NUM[res % 16])\n",
        "            transfer = res // 16\n",
        "    if transfer:\n",
        "            result.appendleft(HEX_NUM[transfer])\n",
        "    return list(result)\n",
        "\n",
        "\n",
        "a = list(input('Введите 1-е шестнадцатиричное число: ').upper())\n",
        "b = list(input('Введите 2-е шестнадцатиричное число: ').upper())\n",
        "print(a, b)\n",
        "\n",
        "print(*a, '+', *b, '=', *sum_hex(a, b))\n",
        "\n",
        "print(*a, '*', *b, '=', *mult_hex(a, b))"
      ],
      "metadata": {
        "colab": {
          "base_uri": "https://localhost:8080/"
        },
        "id": "Cjd8AwHDWNIW",
        "outputId": "da377c6a-055f-43b1-841f-8d22054376da"
      },
      "execution_count": 6,
      "outputs": [
        {
          "output_type": "stream",
          "name": "stdout",
          "text": [
            "Введите 1-е шестнадцатиричное число: a2\n",
            "Введите 2-е шестнадцатиричное число: c4f\n",
            "['A', '2'] ['C', '4', 'F']\n",
            "A 2 + C 4 F = C F 1\n",
            "A 2 * C 4 F = 7 C 9 F E\n"
          ]
        }
      ]
    }
  ]
}