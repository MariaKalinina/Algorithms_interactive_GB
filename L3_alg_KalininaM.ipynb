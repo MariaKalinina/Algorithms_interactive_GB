{
  "nbformat": 4,
  "nbformat_minor": 0,
  "metadata": {
    "colab": {
      "name": "L3_alg_KalininaM.ipynb",
      "provenance": [],
      "authorship_tag": "ABX9TyPO7sNVR/7GB/gXAwwkUHP6",
      "include_colab_link": true
    },
    "kernelspec": {
      "name": "python3",
      "display_name": "Python 3"
    },
    "language_info": {
      "name": "python"
    }
  },
  "cells": [
    {
      "cell_type": "markdown",
      "metadata": {
        "id": "view-in-github",
        "colab_type": "text"
      },
      "source": [
        "<a href=\"https://colab.research.google.com/github/MariaKalinina/Algorithms_interactive_GB/blob/master/L3_alg_KalininaM.ipynb\" target=\"_parent\"><img src=\"https://colab.research.google.com/assets/colab-badge.svg\" alt=\"Open In Colab\"/></a>"
      ]
    },
    {
      "cell_type": "markdown",
      "source": [
        "1. В диапазоне натуральных чисел от 2 до 99 определить, сколько из них кратны каждому из чисел в диапазоне от 2 до 9. Примечание: 8 разных ответов.\n"
      ],
      "metadata": {
        "id": "cK8Bxafea6v1"
      }
    },
    {
      "cell_type": "code",
      "source": [
        "result = {}\n",
        "for i in range(2, 10):\n",
        "    result[i] = []\n",
        "    for j in range(2, 100):\n",
        "        if j % i == 0:\n",
        "           result[i].append(j)\n",
        "    print(f'Количество чисел кратное {i} = {len(result[i])}')"
      ],
      "metadata": {
        "colab": {
          "base_uri": "https://localhost:8080/"
        },
        "id": "PE-QTvJFa-d9",
        "outputId": "832e44d1-4be7-4205-bf3b-dbe43f8aa5ca"
      },
      "execution_count": null,
      "outputs": [
        {
          "output_type": "stream",
          "name": "stdout",
          "text": [
            "Количество чисел кратное 2 = 49\n",
            "Количество чисел кратное 3 = 33\n",
            "Количество чисел кратное 4 = 24\n",
            "Количество чисел кратное 5 = 19\n",
            "Количество чисел кратное 6 = 16\n",
            "Количество чисел кратное 7 = 14\n",
            "Количество чисел кратное 8 = 12\n",
            "Количество чисел кратное 9 = 11\n"
          ]
        }
      ]
    },
    {
      "cell_type": "markdown",
      "source": [
        "2. Во втором массиве сохранить индексы четных элементов первого массива. Например, если дан массив со значениями 8, 3, 15, 6, 4, 2, второй массив надо заполнить значениями 0, 3, 4, 5 (помните, что индексация начинается с нуля), т. к. именно в этих позициях первого массива стоят четные числа."
      ],
      "metadata": {
        "id": "nbN6Lyf_a-vp"
      }
    },
    {
      "cell_type": "code",
      "source": [
        "import random\n",
        "\n",
        "a = [random.randint(1, 100) for _ in range(20)]\n",
        "b = []\n",
        "for i in a:\n",
        "    if i % 2 == 0:\n",
        "        b.append(a.index(i))\n",
        "print(f'Случайный список: {a}')\n",
        "print(f'Индексы четных элементов: {b}')"
      ],
      "metadata": {
        "colab": {
          "base_uri": "https://localhost:8080/"
        },
        "id": "xrYnuBWObCNG",
        "outputId": "faac3fbe-816e-4782-861e-732dedf47510"
      },
      "execution_count": null,
      "outputs": [
        {
          "output_type": "stream",
          "name": "stdout",
          "text": [
            "Случайный список: [13, 69, 20, 51, 7, 67, 64, 3, 62, 69, 83, 83, 56, 3, 90, 8, 73, 55, 86, 11]\n",
            "Индексы четных элементов: [2, 6, 8, 12, 14, 15, 18]\n"
          ]
        }
      ]
    },
    {
      "cell_type": "markdown",
      "source": [
        "3. В массиве случайных целых чисел поменять местами минимальный и максимальный элементы."
      ],
      "metadata": {
        "id": "nVRSDZk3bCz1"
      }
    },
    {
      "cell_type": "code",
      "source": [
        "a = [random.randint(1, 100) for _ in range(20)]\n",
        "max_i = 0\n",
        "min_i = a[0]\n",
        "print(f'Список a: {a}')\n",
        "\n",
        "for i in a:\n",
        "    if i > max_i:\n",
        "        max_i = i\n",
        "    if i < min_i:\n",
        "        min_i = i\n",
        "\n",
        "max_pos, min_pos = a.index(max_i), a.index(min_i)\n",
        "new_a = a\n",
        "new_a[max_pos], new_a[min_pos] = min_i, max_i\n",
        "\n",
        "print(f'Максимальное значение списка a = {max_i}, позиция этого элемента {max_pos}')\n",
        "print(f'Минимальное значение списка a = {min_i}, позиция этого элемента {min_pos}')\n",
        "print(f'Новый список a: {new_a}')"
      ],
      "metadata": {
        "colab": {
          "base_uri": "https://localhost:8080/"
        },
        "id": "ULj_rfV_bFNq",
        "outputId": "d0b4276c-7df6-4929-9399-6b79d2f87ef1"
      },
      "execution_count": null,
      "outputs": [
        {
          "output_type": "stream",
          "name": "stdout",
          "text": [
            "Список a: [64, 94, 18, 3, 52, 67, 19, 53, 83, 4, 42, 91, 34, 93, 46]\n",
            "Максимальное значение списка a = 94, позиция этого элемента 1\n",
            "Минимальное значение списка a = 3, позиция этого элемента 3\n",
            "Новый список a: [64, 3, 18, 94, 52, 67, 19, 53, 83, 4, 42, 91, 34, 93, 46]\n"
          ]
        }
      ]
    },
    {
      "cell_type": "markdown",
      "source": [
        "4. Определить, какое число в массиве встречается чаще всего."
      ],
      "metadata": {
        "id": "xzsG_SMZbFxq"
      }
    },
    {
      "cell_type": "code",
      "source": [
        "import random\n",
        "\n",
        "b = [random.randint(1, 10) for _ in range(20)]\n",
        "b_1 = list(set(b))\n",
        "print(f'Массив: {b}')\n",
        "print(f'Уникальные значения списка: {b_1}')\n",
        "\n",
        "count_els = []\n",
        "max_count = 0\n",
        "for el in b_1:\n",
        "    count_el = b.count(el)\n",
        "    count_els.append(count_el)\n",
        "\n",
        "for i in count_els:\n",
        "    if i > max_count:\n",
        "        max_count = i\n",
        "max_index = count_els.index(max_count)\n",
        "print(f'Наиболее часто ({max_count} раз) встречается число {b_1[max_index]}')"
      ],
      "metadata": {
        "colab": {
          "base_uri": "https://localhost:8080/"
        },
        "id": "GmlrA71UbJFq",
        "outputId": "e95e6e5e-bc21-4560-dbde-cc82fabfc0f4"
      },
      "execution_count": 85,
      "outputs": [
        {
          "output_type": "stream",
          "name": "stdout",
          "text": [
            "Массив: [6, 8, 10, 5, 6, 4, 1, 1, 10, 9, 8, 6, 10, 7, 2, 6, 2, 6, 2, 6]\n",
            "Уникальные значения списка: [1, 2, 4, 5, 6, 7, 8, 9, 10]\n",
            "Наиболее часто (6 раз) встречается число 6\n"
          ]
        }
      ]
    },
    {
      "cell_type": "markdown",
      "source": [
        "5. В массиве найти максимальный отрицательный элемент. Вывести на экран его значение и позицию в массиве.\n",
        "Примечание к задаче: пожалуйста не путайте «минимальный» и «максимальный отрицательный». Это два абсолютно разных значения."
      ],
      "metadata": {
        "id": "YRqrbOqIbJrp"
      }
    },
    {
      "cell_type": "code",
      "source": [
        "c = [random.randint(-100, 101) for _ in range(30)]\n",
        "print(f'Список c: {c}')\n",
        "neg_c = []\n",
        "max_neg = -100 # нижняя граница генерируемого массива\n",
        "for i in c:\n",
        "    if i < 0:\n",
        "        if abs(i) <= abs(max_neg):\n",
        "            max_neg = i\n",
        "\n",
        "print(f'Максимальное отрицательное число = {max_neg}')"
      ],
      "metadata": {
        "colab": {
          "base_uri": "https://localhost:8080/"
        },
        "id": "DvPDcyNPbLft",
        "outputId": "4e420919-8342-469b-f3a7-6ba5df2e163d"
      },
      "execution_count": null,
      "outputs": [
        {
          "output_type": "stream",
          "name": "stdout",
          "text": [
            "Список c: [-90, -82, 97, 45, 78, 5, -87, 54, 56, 23, -25, 76, 61, 78, -65, 65, -84, -46, 27, -67, -93, -56, -84, 93, 28, 4, 54, -26, 26, 53]\n",
            "Максимальное отрицательное число = -25\n"
          ]
        }
      ]
    },
    {
      "cell_type": "markdown",
      "source": [
        "6. В одномерном массиве найти сумму элементов, находящихся между минимальным и максимальным элементами. Сами минимальный и максимальный элементы в сумму не включать."
      ],
      "metadata": {
        "id": "pNer49tCbMJV"
      }
    },
    {
      "cell_type": "code",
      "source": [
        "a = [random.randint(1, 100) for _ in range(20)]\n",
        "max_i = 0\n",
        "min_i = a[0]\n",
        "print(f'Список a: {a}')\n",
        "\n",
        "for i in a:\n",
        "    if i > max_i:\n",
        "        max_i = i\n",
        "    if i < min_i:\n",
        "        min_i = i\n",
        "\n",
        "max_pos, min_pos = a.index(max_i), a.index(min_i)\n",
        "\n",
        "if max_pos > min_pos:\n",
        "    sum_el = sum(a[min_pos+1:max_pos])\n",
        "if max_pos < min_pos:\n",
        "    sum_el = sum(a[max_pos+1:min_pos])\n",
        "print(f'max = {max_i}')\n",
        "print(f'min = {min_i}')\n",
        "print(sum_el)"
      ],
      "metadata": {
        "colab": {
          "base_uri": "https://localhost:8080/"
        },
        "id": "qKwFxvUZbOfK",
        "outputId": "0ec773cb-1fc0-4da3-ce5f-733b1f567b74"
      },
      "execution_count": null,
      "outputs": [
        {
          "output_type": "stream",
          "name": "stdout",
          "text": [
            "Список a: [67, 76, 85, 68, 45, 37, 93, 71, 38, 100]\n",
            "max = 100\n",
            "min = 37\n",
            "202\n"
          ]
        }
      ]
    },
    {
      "cell_type": "markdown",
      "source": [
        "7. В одномерном массиве целых чисел определить два наименьших элемента. Они могут быть как равны между собой (оба минимальны), так и различаться."
      ],
      "metadata": {
        "id": "KzCfwQTqbO6J"
      }
    },
    {
      "cell_type": "code",
      "source": [
        "a = [random.randint(1, 10) for _ in range(20)]\n",
        "print(f\"Список значений a: {a}\")\n",
        "\n",
        "min_i = a[0]\n",
        "for i in a:\n",
        "    if i < min_i:\n",
        "        min_i = i\n",
        "print(f'Первый наименьший элемент списка: {min_i}')\n",
        "a.remove(min_i)\n",
        "\n",
        "min_i = a[0]\n",
        "for i in a:\n",
        "    if i < min_i:\n",
        "        min_i = i\n",
        "print(f'Второй наименьший элемент списка: {min_i}')"
      ],
      "metadata": {
        "id": "yBCj-62TbQ9a",
        "colab": {
          "base_uri": "https://localhost:8080/"
        },
        "outputId": "a3b8d92e-bb0b-4f3f-e597-ae177d38e5ec"
      },
      "execution_count": 62,
      "outputs": [
        {
          "output_type": "stream",
          "name": "stdout",
          "text": [
            "Список значений a: [7, 7, 7, 7, 1, 1, 1, 3, 2, 2, 10, 9, 5, 10, 6, 3, 1, 1, 6, 6]\n",
            "Первый наименьший элемент списка: 1\n",
            "Второй наименьший элемент списка: 1\n"
          ]
        }
      ]
    },
    {
      "cell_type": "markdown",
      "source": [
        "8. Матрица 5x4 заполняется вводом с клавиатуры, кроме последних элементов строк. Программа должна вычислять сумму введенных элементов каждой строки и записывать ее в последнюю ячейку строки. В конце следует вывести полученную матрицу."
      ],
      "metadata": {
        "id": "1GFl4B1WbRh1"
      }
    },
    {
      "cell_type": "code",
      "source": [
        "mx = []\n",
        "\n",
        "for i in range(4):\n",
        "    mx.append([])\n",
        "    sum = 0\n",
        "    for j in range(4):\n",
        "        user_number = int(input(f'Введите {j+1}й элемент {i+1}й строки: '))\n",
        "        sum += user_number\n",
        "        mx[i].append(user_number)\n",
        "\n",
        "    mx[i].append(sum)\n",
        "\n",
        "print(\"*\" * 30)\n",
        "print(\"Ваша матрица:\")\n",
        "print(\"  el   el   el   el   sum\")\n",
        "for line in mx:\n",
        "    for item in line:\n",
        "        print(f'{item:>5}', end=\"\")\n",
        "    print()"
      ],
      "metadata": {
        "id": "-yhFoJjfbThB",
        "colab": {
          "base_uri": "https://localhost:8080/"
        },
        "outputId": "c4b33776-1298-4e0b-9f66-db7c1d422bb1"
      },
      "execution_count": 21,
      "outputs": [
        {
          "output_type": "stream",
          "name": "stdout",
          "text": [
            "Введите 1й элемент 1й строки: 111\n",
            "Введите 2й элемент 1й строки: 111\n",
            "Введите 3й элемент 1й строки: 111\n",
            "Введите 4й элемент 1й строки: 123\n",
            "Введите 1й элемент 2й строки: 123\n",
            "Введите 2й элемент 2й строки: 123\n",
            "Введите 3й элемент 2й строки: 23\n",
            "Введите 4й элемент 2й строки: 123\n",
            "Введите 1й элемент 3й строки: 123\n",
            "Введите 2й элемент 3й строки: 112\n",
            "Введите 3й элемент 3й строки: 123\n",
            "Введите 4й элемент 3й строки: 132\n",
            "Введите 1й элемент 4й строки: 123\n",
            "Введите 2й элемент 4й строки: 123\n",
            "Введите 3й элемент 4й строки: 123\n",
            "Введите 4й элемент 4й строки: 123\n",
            "******************************\n",
            "Ваша матрица:\n",
            "  el   el   el   el   sum\n",
            "  111  111  111  123  456\n",
            "  123  123   23  123  392\n",
            "  123  112  123  132  490\n",
            "  123  123  123  123  492\n"
          ]
        }
      ]
    },
    {
      "cell_type": "markdown",
      "source": [
        "9. Найти максимальный элемент среди минимальных элементов столбцов матрицы.\n",
        "Примечание: попытайтесь решить задания без использования функций max, min, sum, sorted и их аналогов, в том числе написанных самостоятельно.\n",
        "В задачах 3, 4, 5, 6, 9, если искомый элемент(ы) встречается в массиве несколько раз, используйте один любой по вашему выбору."
      ],
      "metadata": {
        "id": "a-Dsb5sTbUPH"
      }
    },
    {
      "cell_type": "code",
      "source": [
        "mx_1 = [[random.randint(1, 100) for _ in range(5)] for _ in range(6)]\n",
        "for line in mx_1:\n",
        "    for item in line:\n",
        "        print(f'{item:>5}', end=\"\")\n",
        "    print()\n",
        "min_list = []\n",
        "max_min = 0\n",
        "\n",
        "for i in range(5):\n",
        "    min_i = mx_1[0][i] \n",
        "    for el in [row[i] for row in mx_1]:\n",
        "        if el < min_i:\n",
        "          min_i = el\n",
        "    min_list.append(min_i)\n",
        "print(f\"Минимальные значения по столбцам: {min_list}\")\n",
        "\n",
        "for j in min_list:\n",
        "    if j > max_min:\n",
        "        max_min = j\n",
        "print(f\"Максимальное значение среди минимальных по столбцам: {max_min}\")"
      ],
      "metadata": {
        "id": "CQh7ULDYbVQb",
        "colab": {
          "base_uri": "https://localhost:8080/"
        },
        "outputId": "5c496c55-a9c9-4c4f-a066-df8bfa9e656a"
      },
      "execution_count": 55,
      "outputs": [
        {
          "output_type": "stream",
          "name": "stdout",
          "text": [
            "   83   25   40   45   73\n",
            "   67   85    4   80   85\n",
            "   86    3   70   32   23\n",
            "   42   49   19   68   84\n",
            "   94   48   72   50   94\n",
            "   95   24   23   41   96\n",
            "Минимальные значения по столбцам: [42, 3, 4, 32, 23]\n",
            "Максимальное значение среди минимальных по столбцам: 42\n"
          ]
        }
      ]
    }
  ]
}